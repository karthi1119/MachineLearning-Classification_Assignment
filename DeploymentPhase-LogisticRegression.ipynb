{
 "cells": [
  {
   "cell_type": "code",
   "execution_count": 1,
   "id": "ae26b691-61d7-42d3-8de8-deb020db2b9c",
   "metadata": {},
   "outputs": [],
   "source": [
    "import pickle"
   ]
  },
  {
   "cell_type": "code",
   "execution_count": 2,
   "id": "4cc25324-537a-47d6-8097-c88a4781c6a5",
   "metadata": {},
   "outputs": [],
   "source": [
    "loaded_model=pickle.load(open(\"finalized_model_LogisticReg.sav\",\"rb\"))"
   ]
  },
  {
   "cell_type": "code",
   "execution_count": 3,
   "id": "2ee6d798-a7ae-4eb9-a0e5-d57e381ecaaf",
   "metadata": {},
   "outputs": [],
   "source": [
    "loaded_model1=pickle.load(open(\"finalized_model_sc.sav\",\"rb\"))"
   ]
  },
  {
   "cell_type": "code",
   "execution_count": 5,
   "id": "439f6188-9e7b-463e-be31-97f6e69a2cb9",
   "metadata": {},
   "outputs": [
    {
     "name": "stderr",
     "output_type": "stream",
     "text": [
      "C:\\anaconda3\\Lib\\site-packages\\sklearn\\base.py:439: UserWarning: X does not have valid feature names, but StandardScaler was fitted with feature names\n",
      "  warnings.warn(\n"
     ]
    },
    {
     "data": {
      "text/plain": [
       "array([[-2.46929658e+00,  6.66956710e+02,  1.88091313e+02,\n",
       "         6.34738937e-01,  4.18443856e+01,  4.64872583e+01,\n",
       "         7.19337043e+04,  7.29810710e+01,  3.92126362e+01,\n",
       "         2.23100409e+01,  4.28994134e+00, -3.08152551e+00,\n",
       "         2.36610978e+03,  2.08935029e+00,  1.89044188e+00,\n",
       "        -4.55842306e-01,  7.40270221e+00,  3.91014785e-01,\n",
       "        -1.99553072e+00, -3.33996684e-01,  4.35069781e+00,\n",
       "         1.35902126e+00,  1.36977686e+00, -2.99739470e-01,\n",
       "         5.06711710e-01, -5.12292337e-01,  2.28035085e+00]])"
      ]
     },
     "execution_count": 5,
     "metadata": {},
     "output_type": "execute_result"
    }
   ],
   "source": [
    "preinput=loaded_model1.transform([[12,8742,233,1,3298,2490,424790,892.942,90,73,74,1028.372382,1931,1,1,0,1,1,0,0,1,1,1,0,1,0,1]])\n",
    "preinput"
   ]
  },
  {
   "cell_type": "code",
   "execution_count": 6,
   "id": "b3ec5ddc-ee7a-48bb-b6c8-7e4580d7dde6",
   "metadata": {},
   "outputs": [
    {
     "data": {
      "text/plain": [
       "array([1])"
      ]
     },
     "execution_count": 6,
     "metadata": {},
     "output_type": "execute_result"
    }
   ],
   "source": [
    "result=loaded_model.predict([[12,8742,233,1,3298,2490,424790,892.942,90,73,74,1028.372382,1931,1,1,0,1,1,0,0,1,1,1,0,1,0,1]])\n",
    "result"
   ]
  },
  {
   "cell_type": "code",
   "execution_count": null,
   "id": "54e464ed-f49f-43a7-b011-43fe26a4a569",
   "metadata": {},
   "outputs": [],
   "source": []
  }
 ],
 "metadata": {
  "kernelspec": {
   "display_name": "Python 3 (ipykernel)",
   "language": "python",
   "name": "python3"
  },
  "language_info": {
   "codemirror_mode": {
    "name": "ipython",
    "version": 3
   },
   "file_extension": ".py",
   "mimetype": "text/x-python",
   "name": "python",
   "nbconvert_exporter": "python",
   "pygments_lexer": "ipython3",
   "version": "3.11.7"
  }
 },
 "nbformat": 4,
 "nbformat_minor": 5
}
